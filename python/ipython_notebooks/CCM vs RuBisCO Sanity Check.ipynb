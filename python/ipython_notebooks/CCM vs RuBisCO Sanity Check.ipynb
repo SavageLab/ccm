{
 "cells": [
  {
   "cell_type": "code",
   "execution_count": 1,
   "metadata": {
    "collapsed": true
   },
   "outputs": [],
   "source": [
    "%matplotlib inline\n",
    "import numpy as np\n",
    "import pylab\n",
    "import seaborn"
   ]
  },
  {
   "cell_type": "code",
   "execution_count": 2,
   "metadata": {
    "collapsed": false
   },
   "outputs": [],
   "source": [
    "class RuBisCOParams(object):\n",
    "    def __init__(self, vmax_c, km_c, km_o, S, V):\n",
    "        \"\"\"\n",
    "        Args:\n",
    "            vmax_c: units uM/s.\n",
    "            km_c: units uM.\n",
    "            km_o: units uM.\n",
    "            S: unitless.\n",
    "            V: microliters, volume rubisco encapsulated in.\n",
    "        \n",
    "        Specificity factor S is defined as\n",
    "            S = vmax_c * km_o / (vmax_o * km_c)\n",
    "        When the enzyme is in the linear regime for both\n",
    "        substrates,\n",
    "            S = vc * [o2] / (vo * [co2])\n",
    "        \"\"\"\n",
    "        self.vmax_c = vmax_c\n",
    "        self.km_c = km_c\n",
    "        self.km_o = km_o\n",
    "        self.S = S\n",
    "        self.vmax_o = vmax_c * km_o / (km_c * S)\n",
    "        self.V = V\n",
    "\n",
    "    def vs(self, co2, o2):\n",
    "        \"\"\"Concentrations in micromolar.\n",
    "        \"\"\"\n",
    "        vc = (self.V * self.vmax_c) / (1.0 + (self.km_c / co2) + (self.km_c * o2 / (self.km_o * co2)))\n",
    "        vo = (self.V * self.vmax_o) / (1.0 + (self.km_o / o2) + (self.km_o * co2 / (self.km_c * o2)))\n",
    "        return vc, vo\n",
    "    \n",
    "    def cost(self, co2, o2):\n",
    "        vc, vo = self.vs(co2, o2)\n",
    "        return (32 * vc + 40 * vo) / vc"
   ]
  },
  {
   "cell_type": "code",
   "execution_count": null,
   "metadata": {
    "collapsed": true
   },
   "outputs": [],
   "source": [
    "vol_cell = 5.2360e-10  # microliters\n",
    "vol_csome = 5.2360e-13\n",
    "\n",
    "Rub_cbsome = RuBisCOParams(vmax_c=7.3578e+04,\n",
    "                           km_c=276.9778,\n",
    "                           km_o=791.8306,\n",
    "                           S=43, \n",
    "                           V=vol_csome)\n",
    "Rub_cyto = RuBisCOParams(vmax_c=6.8,\n",
    "                         km_c=2.6,\n",
    "                         km_o=304.0,\n",
    "                         S=166,\n",
    "                         V=vol_cell)\n",
    "\n",
    "# Extracellular CO2 concentration ranges from 1 uM to 1 mM\n",
    "# which is 10x below ambient (15 mM) and 100 above.\n",
    "co2_ext = np.logspace(0, 3, 40) # uM\n",
    "# Assume that CCM achieves 30 mM HCO3- regardless of extracellular [CO2]\n",
    "hco3_in_ccm = 3e4 # uM\n",
    "# O2 is always ambient, 300 uM\n",
    "o2_ext = 300 # uM\n",
    "\n",
    "# Intracellular pH assumed to be 8, which is approximately optimal\n",
    "# for the full model of the CCM.\n",
    "\n",
    "# In this simplified model a lower pH would increase the rate of fixation\n",
    "# because it would increase the CO2 supply at RuBisCO. However, this \n",
    "# simplified case neglects transport required to achieve 30 mM HCO3- \n",
    "# which is greatly diminished by increased pH. FYI\n",
    "pH_in = 8.0\n",
    "\n",
    "# Assumptions:\n",
    "# * CCM can set cytosolic [HCO3-] = 30 mM at no cost.\n",
    "# * Carboxysomal RuBisCO sees [CO2] that is roughly in equilibrium\n",
    "#   with the 30 mM [HCO3-] given the pH, using pKa = 6.2\n",
    "# * Cytoplasmic RuBisCO sees extracellular CO2 concentrations\n",
    "# * In both cases, O2 at RuBisCO is ambient.\n",
    "pKs = np.arange(6.1, 6.3, 0.1)\n",
    "co2_in_ccm = hco3_in_ccm / (10**(pH_in - pKs))\n",
    "cost_ccm = Rub_cbsome.cost(co2_in_ccm, o2_ext)\n",
    "cost_cyto = Rub_cyto.cost(co2_ext, o2_ext)\n",
    "\n",
    "co2_equal = co2_ext[np.where(cost_cyto <= cost_ccm[2])][0]"
   ]
  },
  {
   "cell_type": "code",
   "execution_count": null,
   "metadata": {
    "collapsed": false
   },
   "outputs": [],
   "source": [
    "pylab.figure(figsize=(10,10))\n",
    "palette = seaborn.color_palette()\n",
    "pylab.yscale('log')\n",
    "pylab.xscale('log')\n",
    "pylab.plot(co2_ext * 1e-6, np.ones(co2_ext.size) * cost_ccm[2],\n",
    "           label='CCM pKa = %.2f' % pKs[2])\n",
    "pylab.plot(co2_ext * 1e-6, cost_cyto, label='Cytosolic RuBisCO')\n",
    "pylab.axvline(co2_equal * 1e-6, ls='--', color=palette[-1])\n",
    "pylab.xlabel('Extracellular [CO_2] (M)', fontsize=14)\n",
    "pylab.ylabel('Approximate Cost (H+/Fixation)', fontsize=14)\n",
    "pylab.legend()\n",
    "pylab.xlim(1e-6, 1e-3)\n",
    "pylab.show()"
   ]
  },
  {
   "cell_type": "code",
   "execution_count": null,
   "metadata": {
    "collapsed": true
   },
   "outputs": [],
   "source": []
  }
 ],
 "metadata": {
  "kernelspec": {
   "display_name": "Python 2",
   "language": "python",
   "name": "python2"
  },
  "language_info": {
   "codemirror_mode": {
    "name": "ipython",
    "version": 2
   },
   "file_extension": ".py",
   "mimetype": "text/x-python",
   "name": "python",
   "nbconvert_exporter": "python",
   "pygments_lexer": "ipython2",
   "version": "2.7.5"
  }
 },
 "nbformat": 4,
 "nbformat_minor": 0
}
